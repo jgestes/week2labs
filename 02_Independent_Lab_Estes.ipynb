{
 "cells": [
  {
   "cell_type": "markdown",
   "id": "cdf997bb-f6c4-4fc5-9e26-a367bd55dfc2",
   "metadata": {},
   "source": [
    "University of Montana MSBA Program \\\n",
    "BGEN 632 - Introduction to Python \\\n",
    "Jen Estes \\\n",
    "March 10th, 2025 \n",
    "\n",
    "\n",
    "## Independent Lab: Celsius to Fahrenheit Conversion\n",
    "\n",
    "Welcome to my Fahrenheit to Celsius converter!\n",
    "This notebook relies on the following formula to convert degrees in Celsius to Fahrenheit:\n",
    "> Fahrenheit = (9 / 5) * Celsius + 32"
   ]
  },
  {
   "cell_type": "markdown",
   "id": "2bbeabb3-dd23-4a35-9b39-4ddcefefbee0",
   "metadata": {},
   "source": [
    "### Step 1: Creating Variables"
   ]
  },
  {
   "cell_type": "code",
   "execution_count": 146,
   "id": "2c4bc7bb-3ba8-4a7b-a9c4-4ccecdda2c4b",
   "metadata": {},
   "outputs": [],
   "source": [
    "celsius = float(0.0)\n",
    "fahrenheit = float(0.0)"
   ]
  },
  {
   "cell_type": "markdown",
   "id": "bfa4a0f8-ec4e-48de-8d1f-7836e9e20f5f",
   "metadata": {},
   "source": [
    "### Step 2: Getting User Value"
   ]
  },
  {
   "cell_type": "code",
   "execution_count": 149,
   "id": "05b5d0c9-c4bd-49dc-827e-145baef52323",
   "metadata": {},
   "outputs": [
    {
     "name": "stdin",
     "output_type": "stream",
     "text": [
      "Please provide a value, in Celsius, to convert:\n",
      " 37\n"
     ]
    }
   ],
   "source": [
    "text = float(input(\"Please provide a value, in Celsius, to convert:\\n\"))"
   ]
  },
  {
   "cell_type": "markdown",
   "id": "29840ddf-63f1-443c-8978-8197b4f2a6a7",
   "metadata": {},
   "source": [
    "The reason for choosing the \"float\" option is because we want to include decimal values in the temperature conversion. "
   ]
  },
  {
   "cell_type": "markdown",
   "id": "5b703f79-80e0-4be0-8c73-5a99adc5d003",
   "metadata": {},
   "source": [
    "### Step 3: Inputting User Value"
   ]
  },
  {
   "cell_type": "code",
   "execution_count": 152,
   "id": "0c82b2a5-d35e-49fb-9af0-b86a927d2aa3",
   "metadata": {},
   "outputs": [
    {
     "name": "stdout",
     "output_type": "stream",
     "text": [
      "37.0\n"
     ]
    }
   ],
   "source": [
    "celsius = text\n",
    "print(celsius)"
   ]
  },
  {
   "cell_type": "markdown",
   "id": "6035cb61-8d69-4481-bf16-4e75d5027181",
   "metadata": {},
   "source": [
    "### Step 4: Converting to Fahrenheit"
   ]
  },
  {
   "cell_type": "code",
   "execution_count": 155,
   "id": "cf31173d-cb29-4837-9164-2c6512f99a2e",
   "metadata": {},
   "outputs": [
    {
     "name": "stdout",
     "output_type": "stream",
     "text": [
      "37.0 degrees celsius is 98.60000000000001 degrees fahrenheit.\n"
     ]
    }
   ],
   "source": [
    "c= celsius\n",
    "f= (9 / 5) * c + 32\n",
    "statement = str(c) + \" degrees celsius is \" + str(f) + \" degrees fahrenheit.\"\n",
    "print(statement)"
   ]
  },
  {
   "cell_type": "markdown",
   "id": "b15e6d27-6443-4d28-8191-7ff23e797a39",
   "metadata": {},
   "source": [
    "### Step 5: Checking Work- Success!"
   ]
  },
  {
   "cell_type": "code",
   "execution_count": 158,
   "id": "a72fc295-dbd4-4d29-a65d-1f4e5d5ba6c5",
   "metadata": {},
   "outputs": [
    {
     "name": "stdout",
     "output_type": "stream",
     "text": [
      "98\n",
      "<class 'int'>\n"
     ]
    }
   ],
   "source": [
    "## Type Conversion\n",
    "int_fahrenheit = int(f)\n",
    "print(int_fahrenheit)\n",
    "print(type(int_fahrenheit))"
   ]
  },
  {
   "cell_type": "markdown",
   "id": "7c2dce96-a0ac-4272-bd55-974b2a215bac",
   "metadata": {},
   "source": [
    "I have ran this code through with the input value of 37 degrees Celsius!"
   ]
  },
  {
   "cell_type": "markdown",
   "id": "f56e2dfe-c050-49dd-9d26-daa46a99ad8e",
   "metadata": {},
   "source": [
    "### Lab Complete!"
   ]
  }
 ],
 "metadata": {
  "kernelspec": {
   "display_name": "Python [conda env:base] *",
   "language": "python",
   "name": "conda-base-py"
  },
  "language_info": {
   "codemirror_mode": {
    "name": "ipython",
    "version": 3
   },
   "file_extension": ".py",
   "mimetype": "text/x-python",
   "name": "python",
   "nbconvert_exporter": "python",
   "pygments_lexer": "ipython3",
   "version": "3.12.7"
  },
  "panel-cell-order": [
   "563c1c41-1d0e-4b75-99b9-b4ead82a6ca1",
   "926ef57b-80fa-4b83-9298-42b687ca758b"
  ]
 },
 "nbformat": 4,
 "nbformat_minor": 5
}
