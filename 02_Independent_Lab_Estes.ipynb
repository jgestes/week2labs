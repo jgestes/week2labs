{
 "cells": [
  {
   "cell_type": "markdown",
   "id": "cdf997bb-f6c4-4fc5-9e26-a367bd55dfc2",
   "metadata": {},
   "source": [
    "University of Montana MSBA Program \\\n",
    "BGEN 632 - Introduction to Python \\\n",
    "Jen Estes \\\n",
    "March 10th, 2025 \n",
    "\n",
    "\n",
    "## Independent Lab: Celsius to Fahrenheit Conversion\n",
    "\n",
    "Welcome to my Fahrenheit to Celsius converter!\n",
    "This notebook relies on the following formula to convert degrees in Celsius to Fahrenheit:\n",
    "> Fahrenheit = (9 / 5) * Celsius + 32"
   ]
  },
  {
   "cell_type": "code",
   "execution_count": 122,
   "id": "2c4bc7bb-3ba8-4a7b-a9c4-4ccecdda2c4b",
   "metadata": {},
   "outputs": [],
   "source": [
    "## Step 1: Creating Variables\n",
    "celsius = float(0.0)\n",
    "fahrenheit = float(0.0)"
   ]
  },
  {
   "cell_type": "code",
   "execution_count": 124,
   "id": "05b5d0c9-c4bd-49dc-827e-145baef52323",
   "metadata": {},
   "outputs": [
    {
     "name": "stdin",
     "output_type": "stream",
     "text": [
      "Please provide a value, in Celsius, to convert:\n",
      " 37\n"
     ]
    }
   ],
   "source": [
    "## Step 2: Getting User Value\n",
    "\n",
    "text = float(input(\"Please provide a value, in Celsius, to convert:\\n\"))\n"
   ]
  },
  {
   "cell_type": "markdown",
   "id": "29840ddf-63f1-443c-8978-8197b4f2a6a7",
   "metadata": {},
   "source": [
    "The reason for choosing the \"float\" option is because we want to include decimal values in the temperature conversion. "
   ]
  },
  {
   "cell_type": "code",
   "execution_count": 127,
   "id": "0c82b2a5-d35e-49fb-9af0-b86a927d2aa3",
   "metadata": {},
   "outputs": [
    {
     "name": "stdout",
     "output_type": "stream",
     "text": [
      "37.0\n"
     ]
    }
   ],
   "source": [
    "### Step 3: Inputting User Value\n",
    "celsius = text\n",
    "print(celsius)"
   ]
  },
  {
   "cell_type": "code",
   "execution_count": 129,
   "id": "cf31173d-cb29-4837-9164-2c6512f99a2e",
   "metadata": {},
   "outputs": [
    {
     "name": "stdout",
     "output_type": "stream",
     "text": [
      "37.0 degrees celsius is 98.60000000000001 degrees fahrenheit.\n"
     ]
    }
   ],
   "source": [
    "## Step 4: Converting to Fahrenheit\n",
    "c= celsius\n",
    "f= (9 / 5) * c + 32\n",
    "statement = str(c) + \" degrees celsius is \" + str(f) + \" degrees fahrenheit.\"\n",
    "print(statement)"
   ]
  },
  {
   "cell_type": "code",
   "execution_count": 131,
   "id": "2180de3a-50b4-41a0-82dc-d884219e070a",
   "metadata": {},
   "outputs": [],
   "source": [
    "## Step 5: Checking Work- Success!"
   ]
  },
  {
   "cell_type": "code",
   "execution_count": 133,
   "id": "a72fc295-dbd4-4d29-a65d-1f4e5d5ba6c5",
   "metadata": {},
   "outputs": [
    {
     "name": "stdout",
     "output_type": "stream",
     "text": [
      "98\n",
      "<class 'int'>\n"
     ]
    }
   ],
   "source": [
    "## Type Conversion\n",
    "int_fahrenheit = int(f)\n",
    "print(int_fahrenheit)\n",
    "print(type(int_fahrenheit))"
   ]
  },
  {
   "cell_type": "code",
   "execution_count": 135,
   "id": "e05e5b86-d28d-451c-bf84-74f0b98d46f3",
   "metadata": {},
   "outputs": [],
   "source": [
    "## Run Code with input as '37'- Done"
   ]
  }
 ],
 "metadata": {
  "kernelspec": {
   "display_name": "Python [conda env:base] *",
   "language": "python",
   "name": "conda-base-py"
  },
  "language_info": {
   "codemirror_mode": {
    "name": "ipython",
    "version": 3
   },
   "file_extension": ".py",
   "mimetype": "text/x-python",
   "name": "python",
   "nbconvert_exporter": "python",
   "pygments_lexer": "ipython3",
   "version": "3.12.7"
  },
  "panel-cell-order": [
   "563c1c41-1d0e-4b75-99b9-b4ead82a6ca1",
   "926ef57b-80fa-4b83-9298-42b687ca758b"
  ]
 },
 "nbformat": 4,
 "nbformat_minor": 5
}
